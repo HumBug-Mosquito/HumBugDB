{
 "cells": [
  {
   "cell_type": "code",
   "execution_count": 1,
   "metadata": {},
   "outputs": [],
   "source": [
    "import os\n",
    "import pandas as pd\n",
    "import sys\n",
    "sys.path.insert(0, os.path.abspath('../lib'))\n",
    "\n",
    "import config\n",
    "from evaluate import get_results, plot_confusion_matrix_multiclass, compute_plot_roc_multiclass\n",
    "\n",
    "from sklearn.utils import shuffle, class_weight\n",
    "import numpy as np\n",
    "\n",
    "# Troubleshooting and visualisation\n",
    "import IPython.display as ipd"
   ]
  },
  {
   "cell_type": "markdown",
   "metadata": {},
   "source": [
    "# NB: clean up model output folder structure"
   ]
  },
  {
   "cell_type": "code",
   "execution_count": 2,
   "metadata": {},
   "outputs": [],
   "source": [
    "# Extra imports\n",
    "import feat_util\n",
    "import librosa\n",
    "import matplotlib.pyplot as plt"
   ]
  },
  {
   "cell_type": "code",
   "execution_count": 3,
   "metadata": {},
   "outputs": [],
   "source": [
    "library = 'PyTorch'\n",
    "\n",
    "if library == 'PyTorch':\n",
    "    from PyTorch.runTorchMultiClass import train_model, load_model, evaluate_model, ResnetDropoutFull, Resnet, VGGishDropout\n",
    "    from PyTorch import config_pytorch\n",
    "elif library == 'Keras':\n",
    "    from tensorflow import keras\n",
    "    from Keras.runKeras import train_model, load_model, evaluate_model\n",
    "else:\n",
    "    print('Library:', library, 'not supported. Please add your own code for support of that framework.')"
   ]
  },
  {
   "cell_type": "code",
   "execution_count": 4,
   "metadata": {},
   "outputs": [],
   "source": [
    "# Select IHI Tanzania cup data to use for multi-species classification\n",
    "\n",
    "df = pd.read_csv(config.data_df)\n",
    "idx_multiclass = np.logical_and(df['country'] == 'Tanzania', df['location_type'] == 'cup')\n",
    "df_all = df[idx_multiclass]"
   ]
  },
  {
   "cell_type": "code",
   "execution_count": 5,
   "metadata": {},
   "outputs": [],
   "source": [
    "# Select list of classes with sufficient samples for significant analysis. Ordered with similar groups in adjacent classes.\n",
    "\n",
    "classes = ['an arabiensis','culex pipiens complex', 'ae aegypti','an funestus ss','an squamosus',\n",
    "               'an coustani','ma uniformis','ma africanus']"
   ]
  },
  {
   "cell_type": "markdown",
   "metadata": {},
   "source": [
    "# Create features (only re-run if not loading from pickle)"
   ]
  },
  {
   "cell_type": "code",
   "execution_count": 8,
   "metadata": {},
   "outputs": [],
   "source": [
    "import collections\n",
    "species_dict = collections.OrderedDict()\n",
    "species_recordings = collections.OrderedDict()\n",
    "for species in classes:\n",
    "    # Number of total audio clips per species (includes repeats from same filename)\n",
    "    species_recordings[species] = len(pd.unique(df_all[df_all.species==species].name)) # Number of unique audio recordings (and hence mosquitoes)\n",
    "    species_dict[species] = sum(df_all[df_all.species==species].length)"
   ]
  },
  {
   "cell_type": "code",
   "execution_count": 9,
   "metadata": {},
   "outputs": [
    {
     "name": "stdout",
     "output_type": "stream",
     "text": [
      "an arabiensis 385 129\n",
      "culex pipiens complex 252 84\n",
      "ae aegypti 36 13\n",
      "an funestus ss 186 62\n",
      "an squamosus 68 23\n",
      "an coustani 37 13\n",
      "ma uniformis 57 19\n",
      "ma africanus 28 10\n"
     ]
    }
   ],
   "source": [
    "# Divide recordings into train and test, with recording shuffling fixed by random_state\n",
    "train_fraction = 0.75\n",
    "train_recordings = {}\n",
    "test_recordings = {}\n",
    "\n",
    "# Random seeds for 5-fold CV results\n",
    "random_seeds = [42, 21, 5, 10, 100] # Paper results so far use random_seed=42\n",
    "\n",
    "random_seed = 42\n",
    "\n",
    "for i in range(len(classes)):\n",
    "    n_train = int(species_recordings[classes[i]] * train_fraction)\n",
    "    n_test = species_recordings[classes[i]] - n_train\n",
    "    print(classes[i], n_train, n_test)\n",
    "    df_class = df_all[df_all.species == classes[i]]\n",
    "    train_recordings[i] =  shuffle(pd.unique(df_class.name), random_state=random_seed)[:n_train]  \n",
    "    test_recordings[i] = shuffle(pd.unique(df_class.name),random_state=random_seed)[n_train:]"
   ]
  },
  {
   "cell_type": "code",
   "execution_count": null,
   "metadata": {},
   "outputs": [],
   "source": [
    "# Features for VGGish input: 96x64 (W*H) log-mel spectrogram\n",
    "from feat_vggish import get_feat_multispecies\n",
    "# Features for all other models using default log-mel implementation:\n",
    "from feat_util"
   ]
  },
  {
   "cell_type": "code",
   "execution_count": null,
   "metadata": {},
   "outputs": [],
   "source": [
    "from PyTorch.vggish.vggish_input import waveform_to_examples\n",
    "\n",
    "def get_feat_multispecies(df_all, label_recordings_dict, data_dir, rate, n_feat):\n",
    "    '''Extract features for multi-class species classification.'''\n",
    "    X = []\n",
    "    y = []\n",
    "\n",
    "    for class_label in label_recordings_dict.keys(): # Loop over classes\n",
    "        print('Extracting features for class:', class_label)\n",
    "        for i in label_recordings_dict[class_label]: # Loop over recordings in class\n",
    "            df_match = df_all[df_all.name == i]\n",
    "            for idx, row in df_match.iterrows(): # Loop over clips in recording\n",
    "                _, file_format = os.path.splitext(row['name'])\n",
    "                filename = os.path.join(data_dir, str(row['id']) + file_format)\n",
    "                signal, rate = librosa.load(filename, sr=rate)\n",
    "                feat = waveform_to_examples(signal, rate)\n",
    "                X.append(feat)\n",
    "                y.append(class_label)\n",
    "    return X, y"
   ]
  },
  {
   "cell_type": "code",
   "execution_count": null,
   "metadata": {},
   "outputs": [],
   "source": [
    "def get_feat_multispecies(df_all, label_recordings_dict, data_dir, rate, n_feat):\n",
    "    '''Extract features for multi-class species classification.'''\n",
    "    X = []\n",
    "    y = []\n",
    "\n",
    "    for class_label in label_recordings_dict.keys(): # Loop over classes\n",
    "        print('Extracting features for class:', class_label)\n",
    "        for i in label_recordings_dict[class_label]: # Loop over recordings in class\n",
    "            df_match = df_all[df_all.name == i]\n",
    "            for idx, row in df_match.iterrows(): # Loop over clips in recording\n",
    "                _, file_format = os.path.splitext(row['name'])\n",
    "                filename = os.path.join(data_dir, str(row['id']) + file_format)\n",
    "                signal, rate = librosa.load(filename, sr=rate)\n",
    "                feat = librosa.feature.melspectrogram(signal, sr=rate, n_mels=n_feat) \n",
    "#                 feat = librosa.feature.mfcc(y=signal, sr=rate, n_mfcc=n_feat)\n",
    "                feat = librosa.power_to_db(feat, ref=np.max)\n",
    "                if config.norm_per_sample:\n",
    "                    feat = (feat-np.mean(feat))/np.std(feat)                \n",
    "                X.append(feat)\n",
    "                y.append(class_label)\n",
    "    return X, y"
   ]
  },
  {
   "cell_type": "code",
   "execution_count": null,
   "metadata": {},
   "outputs": [],
   "source": [
    "# Run for VGGish:\n",
    "X_test, y_test = get_feat_multispecies(df_all, test_recordings, config.data_dir, config.rate, config.n_feat)"
   ]
  },
  {
   "cell_type": "code",
   "execution_count": null,
   "metadata": {},
   "outputs": [],
   "source": [
    "X_train, y_train = get_feat_multispecies(df_all, train_recordings, config.data_dir, config.rate, config.n_feat)"
   ]
  },
  {
   "cell_type": "code",
   "execution_count": null,
   "metadata": {},
   "outputs": [],
   "source": [
    "X_test_CNN, y_test_CNN = reshape_feat(X_test, y_test)"
   ]
  },
  {
   "cell_type": "code",
   "execution_count": null,
   "metadata": {},
   "outputs": [],
   "source": [
    "X_train_CNN, y_train_CNN = reshape_feat(X_train, y_train)"
   ]
  },
  {
   "cell_type": "code",
   "execution_count": null,
   "metadata": {},
   "outputs": [],
   "source": [
    "import torch\n",
    "def reshape_feat(feats, labels):\n",
    "    y_full = []\n",
    "    for idx, feat in enumerate(feats):\n",
    "        y_full.append(np.repeat(labels[idx], np.shape(feat)[0]))\n",
    "    y = np.concatenate(y_full)\n",
    "\n",
    "    x = torch.cat(feats, 0)\n",
    "    y = torch.tensor(y).float() \n",
    "    return x, y"
   ]
  },
  {
   "cell_type": "code",
   "execution_count": null,
   "metadata": {},
   "outputs": [],
   "source": [
    "# Save feature output to pickle VGGish\n",
    "\n",
    "import pickle\n",
    "pickle_name_train = 'vggish_' + str(random_seed) + '_train.pickle'\n",
    "pickle_name_test = 'vggish_' + str(random_seed) + '_test.pickle'\n",
    "\n",
    "feat_train = {\"X_train\":X_train_CNN, \"y_train\":y_train_CNN}\n",
    "feat_test = {\"X_test\":X_test_CNN, \"y_test\":y_test_CNN}\n",
    "\n",
    "\n",
    "dir_out = '../outputs/features/multi-species/humbugdb'\n",
    "with open(os.path.join(dir_out, pickle_name_train), 'wb') as f:\n",
    "    pickle.dump(feat_train, f, protocol=4)\n",
    "    print('Saved features to:', os.path.join(dir_out, pickle_name_train))\n",
    "    \n",
    "with open(os.path.join(dir_out, pickle_name_test), 'wb') as f:\n",
    "    pickle.dump(feat_test, f, protocol=4)\n",
    "    print('Saved features to:', os.path.join(dir_out, pickle_name_test))   "
   ]
  },
  {
   "cell_type": "code",
   "execution_count": 10,
   "metadata": {},
   "outputs": [],
   "source": [
    "# Load VGGish pickle\n",
    "\n",
    "import pickle\n",
    "dir_out = '../outputs/features/multi-species/humbugdb'\n",
    "pickle_name_train = 'vggish_' + str(random_seed) + '_train.pickle'\n",
    "pickle_name_test = 'vggish_' + str(random_seed) + '_test.pickle'\n",
    "\n",
    "\n",
    "with open(os.path.join(dir_out, pickle_name_train), 'rb') as input_file:\n",
    "    feat_train = pickle.load(input_file)\n",
    "    \n",
    "with open(os.path.join(dir_out, pickle_name_test), 'rb') as input_file:\n",
    "    feat_test = pickle.load(input_file)\n",
    "    \n",
    "X_train = feat_train[\"X_train\"]\n",
    "y_train = feat_train[\"y_train\"]\n",
    "X_test = feat_test[\"X_test\"]\n",
    "y_test = feat_test[\"y_test\"]\n",
    "# Returns features with correct dimensions for VGGish16.\n"
   ]
  },
  {
   "cell_type": "code",
   "execution_count": null,
   "metadata": {},
   "outputs": [],
   "source": [
    "import matplotlib.pyplot as plt"
   ]
  },
  {
   "cell_type": "code",
   "execution_count": null,
   "metadata": {},
   "outputs": [],
   "source": [
    "plt.imshow(X_train[400].detach().numpy().squeeze().T)\n",
    "plt.colorbar()"
   ]
  },
  {
   "cell_type": "code",
   "execution_count": null,
   "metadata": {},
   "outputs": [],
   "source": [
    "# Extract feats, expected runtime ~5 mins\n",
    "X_test, y_test = get_feat_multispecies(df_all, test_recordings, config.data_dir, config.rate, config.n_feat)\n",
    "# Extract feats, expected runtime ~14 mins\n",
    "X_train, y_train = get_feat_multispecies(df_all, train_recordings, config.data_dir, config.rate, config.n_feat)"
   ]
  },
  {
   "cell_type": "markdown",
   "metadata": {},
   "source": [
    "# Save features to pickle"
   ]
  },
  {
   "cell_type": "code",
   "execution_count": null,
   "metadata": {},
   "outputs": [],
   "source": [
    "# Save feature output to pickle\n",
    "\n",
    "import pickle\n",
    "pickle_name_train = 'log_mel_feat_shuffle_' + str(random_seed) + '_train_norm_'+str(config.norm_per_sample)+'.pickle'\n",
    "pickle_name_test = 'log_mel_feat_shuffle_' + str(random_seed) + '_test_norm_'+str(config.norm_per_sample)+'.pickle'\n",
    "\n",
    "log_mel_feat_train = {\"X_train\":X_train, \"y_train\":y_train}\n",
    "log_mel_feat_test = {\"X_test\":X_test, \"y_test\":y_test}\n",
    "\n",
    "\n",
    "dir_out = '../outputs/features/multi-species/humbugdb'\n",
    "with open(os.path.join(dir_out, pickle_name_train), 'wb') as f:\n",
    "    pickle.dump(log_mel_feat_train, f, protocol=4)\n",
    "    print('Saved features to:', os.path.join(dir_out, pickle_name_train))\n",
    "    \n",
    "with open(os.path.join(dir_out, pickle_name_test), 'wb') as f:\n",
    "    pickle.dump(log_mel_feat_test, f, protocol=4)\n",
    "    print('Saved features to:', os.path.join(dir_out, pickle_name_test))   "
   ]
  },
  {
   "cell_type": "markdown",
   "metadata": {},
   "source": [
    "# Load pickled features"
   ]
  },
  {
   "cell_type": "code",
   "execution_count": null,
   "metadata": {},
   "outputs": [],
   "source": [
    "# Load pickle\n",
    "\n",
    "import pickle\n",
    "dir_out = '../outputs/features/multi-species/humbugdb'\n",
    "pickle_name_train = 'log_mel_feat_shuffle_' + str(random_seed) + '_train_norm_'+str(config.norm_per_sample)+'.pickle'\n",
    "pickle_name_test = 'log_mel_feat_shuffle_' + str(random_seed) + '_test_norm_'+str(config.norm_per_sample)+'.pickle'\n",
    "\n",
    "\n",
    "with open(os.path.join(dir_out, pickle_name_train), 'rb') as input_file:\n",
    "    log_mel_feat_train = pickle.load(input_file)\n",
    "    \n",
    "with open(os.path.join(dir_out, pickle_name_test), 'rb') as input_file:\n",
    "    log_mel_feat_test = pickle.load(input_file)\n",
    "    \n",
    "X_train = log_mel_feat_train[\"X_train\"]\n",
    "y_train = log_mel_feat_train[\"y_train\"]\n",
    "X_test = log_mel_feat_test[\"X_test\"]\n",
    "y_test = log_mel_feat_test[\"y_test\"]\n",
    "# Reshape features to be used with CNN (Keras or PyTorch)\n",
    "\n",
    "X_train_CNN, y_train_CNN = feat_util.reshape_feat(X_train, y_train, config.win_size, config.step_size)\n",
    "X_test_CNN, y_test_CNN = feat_util.reshape_feat(X_test, y_test, config.win_size, config.win_size)"
   ]
  },
  {
   "cell_type": "markdown",
   "metadata": {},
   "source": [
    "# Model definition and optimisation\n",
    "Current model here is identical to the model used in paper for previous results with binary mosquito/noise detection. Acts as good baseline for further work."
   ]
  },
  {
   "cell_type": "code",
   "execution_count": null,
   "metadata": {},
   "outputs": [],
   "source": [
    "class_weights = class_weight.compute_class_weight('balanced',classes=np.unique(y_train_CNN),y=y_train_CNN)"
   ]
  },
  {
   "cell_type": "code",
   "execution_count": null,
   "metadata": {
    "scrolled": true
   },
   "outputs": [
    {
     "name": "stderr",
     "output_type": "stream",
     "text": [
      "F:\\PostdocCode\\HumBugDB\\lib\\PyTorch\\runTorchMultiClass.py:94: UserWarning: To copy construct from a tensor, it is recommended to use sourceTensor.clone().detach() or sourceTensor.clone().detach().requires_grad_(True), rather than torch.tensor(sourceTensor).\n",
      "  x_train = torch.tensor(x_train).float()\n",
      "F:\\PostdocCode\\HumBugDB\\lib\\PyTorch\\runTorchMultiClass.py:97: UserWarning: To copy construct from a tensor, it is recommended to use sourceTensor.clone().detach() or sourceTensor.clone().detach().requires_grad_(True), rather than torch.tensor(sourceTensor).\n",
      "  y_train = torch.tensor(y_train, dtype=torch.long)\n"
     ]
    },
    {
     "name": "stdout",
     "output_type": "stream",
     "text": [
      "Training on cuda:0\n",
      "Applying class weights: [0.31523012 0.57031123 3.6119711  0.62266501 2.26830849 4.31565968\n",
      " 2.71317829 6.6539924 ]\n",
      "all_y all_y_pred (28000, 1) (28000,)\n",
      "Saving model to: ..\\outputs\\models\\pytorch\\model_e0_2021_08_05_12_44_59.pth\n",
      "Epoch: 0, Train Loss: 2.04417420, Train Acc: 0.30657143, overrun_counter 0\n",
      "all_y all_y_pred (28000, 1) (28000,)\n",
      "Saving model to: ..\\outputs\\models\\pytorch\\model_e1_2021_08_05_12_48_26.pth\n",
      "Epoch: 1, Train Loss: 1.62546576, Train Acc: 0.38732143, overrun_counter 0\n",
      "all_y all_y_pred (28000, 1) (28000,)\n",
      "Saving model to: ..\\outputs\\models\\pytorch\\model_e2_2021_08_05_12_51_52.pth\n",
      "Epoch: 2, Train Loss: 1.34184446, Train Acc: 0.44764286, overrun_counter 0\n",
      "all_y all_y_pred (28000, 1) (28000,)\n",
      "Saving model to: ..\\outputs\\models\\pytorch\\model_e3_2021_08_05_12_55_16.pth\n",
      "Epoch: 3, Train Loss: 1.17417468, Train Acc: 0.50796429, overrun_counter 0\n",
      "all_y all_y_pred (28000, 1) (28000,)\n",
      "Saving model to: ..\\outputs\\models\\pytorch\\model_e4_2021_08_05_12_58_40.pth\n",
      "Epoch: 4, Train Loss: 1.02917741, Train Acc: 0.55660714, overrun_counter 0\n",
      "all_y all_y_pred (28000, 1) (28000,)\n",
      "Saving model to: ..\\outputs\\models\\pytorch\\model_e5_2021_08_05_13_02_07.pth\n",
      "Epoch: 5, Train Loss: 0.90448007, Train Acc: 0.60107143, overrun_counter 0\n",
      "all_y all_y_pred (28000, 1) (28000,)\n",
      "Saving model to: ..\\outputs\\models\\pytorch\\model_e6_2021_08_05_13_05_34.pth\n",
      "Epoch: 6, Train Loss: 0.77840011, Train Acc: 0.64957143, overrun_counter 0\n",
      "all_y all_y_pred (28000, 1) (28000,)\n",
      "Saving model to: ..\\outputs\\models\\pytorch\\model_e7_2021_08_05_13_09_01.pth\n",
      "Epoch: 7, Train Loss: 0.64370706, Train Acc: 0.69628571, overrun_counter 0\n",
      "all_y all_y_pred (28000, 1) (28000,)\n",
      "Saving model to: ..\\outputs\\models\\pytorch\\model_e8_2021_08_05_13_12_28.pth\n",
      "Epoch: 8, Train Loss: 0.52628859, Train Acc: 0.73925000, overrun_counter 0\n",
      "all_y all_y_pred (28000, 1) (28000,)\n",
      "Saving model to: ..\\outputs\\models\\pytorch\\model_e9_2021_08_05_13_15_54.pth\n",
      "Epoch: 9, Train Loss: 0.43748962, Train Acc: 0.77957143, overrun_counter 0\n",
      "all_y all_y_pred (28000, 1) (28000,)\n",
      "Saving model to: ..\\outputs\\models\\pytorch\\model_e10_2021_08_05_13_19_20.pth\n",
      "Epoch: 10, Train Loss: 0.37392001, Train Acc: 0.81321429, overrun_counter 0\n",
      "all_y all_y_pred (28000, 1) (28000,)\n",
      "Saving model to: ..\\outputs\\models\\pytorch\\model_e11_2021_08_05_13_22_45.pth\n",
      "Epoch: 11, Train Loss: 0.31678061, Train Acc: 0.84592857, overrun_counter 0\n",
      "all_y all_y_pred (28000, 1) (28000,)\n",
      "Saving model to: ..\\outputs\\models\\pytorch\\model_e12_2021_08_05_13_26_07.pth\n",
      "Epoch: 12, Train Loss: 0.25533312, Train Acc: 0.87246429, overrun_counter 0\n",
      "all_y all_y_pred (28000, 1) (28000,)\n",
      "Saving model to: ..\\outputs\\models\\pytorch\\model_e13_2021_08_05_13_29_28.pth\n",
      "Epoch: 13, Train Loss: 0.22916429, Train Acc: 0.88885714, overrun_counter 0\n",
      "all_y all_y_pred (28000, 1) (28000,)\n",
      "Saving model to: ..\\outputs\\models\\pytorch\\model_e14_2021_08_05_13_32_54.pth\n",
      "Epoch: 14, Train Loss: 0.21380793, Train Acc: 0.90325000, overrun_counter 0\n",
      "all_y all_y_pred (28000, 1) (28000,)\n",
      "Saving model to: ..\\outputs\\models\\pytorch\\model_e15_2021_08_05_13_36_21.pth\n",
      "Epoch: 15, Train Loss: 0.18903167, Train Acc: 0.91442857, overrun_counter 0\n",
      "all_y all_y_pred (28000, 1) (28000,)\n",
      "Saving model to: ..\\outputs\\models\\pytorch\\model_e16_2021_08_05_13_39_47.pth\n",
      "Epoch: 16, Train Loss: 0.17059771, Train Acc: 0.92389286, overrun_counter 0\n",
      "all_y all_y_pred (28000, 1) (28000,)\n",
      "Saving model to: ..\\outputs\\models\\pytorch\\model_e17_2021_08_05_13_43_13.pth\n",
      "Epoch: 17, Train Loss: 0.17325892, Train Acc: 0.92757143, overrun_counter 0\n",
      "all_y all_y_pred (28000, 1) (28000,)\n",
      "Saving model to: ..\\outputs\\models\\pytorch\\model_e18_2021_08_05_13_46_39.pth\n",
      "Epoch: 18, Train Loss: 0.17362847, Train Acc: 0.93057143, overrun_counter 0\n",
      "all_y all_y_pred (28000, 1) (28000,)\n",
      "Saving model to: ..\\outputs\\models\\pytorch\\model_e19_2021_08_05_13_50_01.pth\n",
      "Epoch: 19, Train Loss: 0.13208606, Train Acc: 0.94035714, overrun_counter 0\n",
      "all_y all_y_pred (28000, 1) (28000,)\n",
      "Epoch: 20, Train Loss: 0.16989660, Train Acc: 0.93142857, overrun_counter 1\n",
      "all_y all_y_pred (28000, 1) (28000,)\n",
      "Saving model to: ..\\outputs\\models\\pytorch\\model_e21_2021_08_05_13_56_43.pth\n",
      "Epoch: 21, Train Loss: 0.12726008, Train Acc: 0.94832143, overrun_counter 0\n",
      "all_y all_y_pred (28000, 1) (28000,)\n",
      "Epoch: 22, Train Loss: 0.14258745, Train Acc: 0.94285714, overrun_counter 1\n",
      "all_y all_y_pred (28000, 1) (28000,)\n",
      "Epoch: 23, Train Loss: 0.15044413, Train Acc: 0.94428571, overrun_counter 2\n",
      "all_y all_y_pred (28000, 1) (28000,)\n",
      "Saving model to: ..\\outputs\\models\\pytorch\\model_e24_2021_08_05_14_07_01.pth\n",
      "Epoch: 24, Train Loss: 0.13218677, Train Acc: 0.94910714, overrun_counter 0\n",
      "all_y all_y_pred (28000, 1) (28000,)\n",
      "Epoch: 25, Train Loss: 0.16558036, Train Acc: 0.93635714, overrun_counter 1\n",
      "all_y all_y_pred (28000, 1) (28000,)\n",
      "Saving model to: ..\\outputs\\models\\pytorch\\model_e26_2021_08_05_14_14_01.pth\n",
      "Epoch: 26, Train Loss: 0.11793628, Train Acc: 0.95528571, overrun_counter 0\n",
      "all_y all_y_pred (28000, 1) (28000,)\n",
      "Saving model to: ..\\outputs\\models\\pytorch\\model_e27_2021_08_05_14_17_32.pth\n",
      "Epoch: 27, Train Loss: 0.10536146, Train Acc: 0.95792857, overrun_counter 0\n",
      "all_y all_y_pred (28000, 1) (28000,)\n",
      "Epoch: 28, Train Loss: 0.12814751, Train Acc: 0.95382143, overrun_counter 1\n",
      "all_y all_y_pred (28000, 1) (28000,)\n",
      "Saving model to: ..\\outputs\\models\\pytorch\\model_e29_2021_08_05_14_24_33.pth\n",
      "Epoch: 29, Train Loss: 0.11399417, Train Acc: 0.95825000, overrun_counter 0\n",
      "all_y all_y_pred (28000, 1) (28000,)\n",
      "Epoch: 30, Train Loss: 0.14086568, Train Acc: 0.95017857, overrun_counter 1\n",
      "all_y all_y_pred (28000, 1) (28000,)\n",
      "Saving model to: ..\\outputs\\models\\pytorch\\model_e31_2021_08_05_14_31_37.pth\n",
      "Epoch: 31, Train Loss: 0.12045462, Train Acc: 0.95967857, overrun_counter 0\n",
      "all_y all_y_pred (28000, 1) (28000,)\n",
      "Epoch: 32, Train Loss: 0.13729169, Train Acc: 0.95389286, overrun_counter 1\n",
      "all_y all_y_pred (28000, 1) (28000,)\n",
      "Saving model to: ..\\outputs\\models\\pytorch\\model_e33_2021_08_05_14_38_38.pth\n",
      "Epoch: 33, Train Loss: 0.10470649, Train Acc: 0.96389286, overrun_counter 0\n",
      "all_y all_y_pred (28000, 1) (28000,)\n",
      "Epoch: 34, Train Loss: 0.11634515, Train Acc: 0.96175000, overrun_counter 1\n",
      "all_y all_y_pred (28000, 1) (28000,)\n",
      "Epoch: 35, Train Loss: 0.12975228, Train Acc: 0.95739286, overrun_counter 2\n",
      "all_y all_y_pred (28000, 1) (28000,)\n",
      "Epoch: 36, Train Loss: 0.15829265, Train Acc: 0.94907143, overrun_counter 3\n",
      "all_y all_y_pred (28000, 1) (28000,)\n",
      "Epoch: 37, Train Loss: 0.11535075, Train Acc: 0.95785714, overrun_counter 4\n",
      "all_y all_y_pred (28000, 1) (28000,)\n",
      "Epoch: 38, Train Loss: 0.11161462, Train Acc: 0.95957143, overrun_counter 5\n",
      "all_y all_y_pred (28000, 1) (28000,)\n",
      "Epoch: 39, Train Loss: 0.12179986, Train Acc: 0.96203571, overrun_counter 6\n",
      "all_y all_y_pred (28000, 1) (28000,)\n",
      "Saving model to: ..\\outputs\\models\\pytorch\\model_e40_2021_08_05_15_02_37.pth\n",
      "Epoch: 40, Train Loss: 0.09539922, Train Acc: 0.96689286, overrun_counter 0\n",
      "all_y all_y_pred (28000, 1) (28000,)\n",
      "Epoch: 41, Train Loss: 0.22939151, Train Acc: 0.93100000, overrun_counter 1\n",
      "all_y all_y_pred (28000, 1) (28000,)\n",
      "Saving model to: ..\\outputs\\models\\pytorch\\model_e42_2021_08_05_15_09_24.pth\n",
      "Epoch: 42, Train Loss: 0.09633807, Train Acc: 0.96985714, overrun_counter 0\n",
      "all_y all_y_pred (28000, 1) (28000,)\n",
      "Saving model to: ..\\outputs\\models\\pytorch\\model_e43_2021_08_05_15_12_45.pth\n",
      "Epoch: 43, Train Loss: 0.07185033, Train Acc: 0.97200000, overrun_counter 0\n",
      "all_y all_y_pred (28000, 1) (28000,)\n",
      "Epoch: 44, Train Loss: 0.14160842, Train Acc: 0.95200000, overrun_counter 1\n",
      "all_y all_y_pred (28000, 1) (28000,)\n",
      "Epoch: 45, Train Loss: 0.09799684, Train Acc: 0.96846429, overrun_counter 2\n",
      "all_y all_y_pred (28000, 1) (28000,)\n",
      "Epoch: 46, Train Loss: 0.13345007, Train Acc: 0.95903571, overrun_counter 3\n",
      "all_y all_y_pred (28000, 1) (28000,)\n",
      "Epoch: 47, Train Loss: 0.10256036, Train Acc: 0.96710714, overrun_counter 4\n",
      "all_y all_y_pred (28000, 1) (28000,)\n",
      "Epoch: 48, Train Loss: 0.11925181, Train Acc: 0.96271429, overrun_counter 5\n",
      "all_y all_y_pred (28000, 1) (28000,)\n",
      "Epoch: 49, Train Loss: 0.07932843, Train Acc: 0.97142857, overrun_counter 6\n",
      "all_y all_y_pred (28000, 1) (28000,)\n",
      "Epoch: 50, Train Loss: 0.09411477, Train Acc: 0.96842857, overrun_counter 7\n",
      "all_y all_y_pred (28000, 1) (28000,)\n",
      "Epoch: 51, Train Loss: 0.17747407, Train Acc: 0.94971429, overrun_counter 8\n"
     ]
    },
    {
     "name": "stdout",
     "output_type": "stream",
     "text": [
      "all_y all_y_pred (28000, 1) (28000,)\n",
      "Epoch: 52, Train Loss: 0.11563157, Train Acc: 0.96628571, overrun_counter 9\n",
      "all_y all_y_pred (28000, 1) (28000,)\n",
      "Epoch: 53, Train Loss: 0.13066679, Train Acc: 0.95750000, overrun_counter 10\n",
      "all_y all_y_pred (28000, 1) (28000,)\n",
      "Epoch: 54, Train Loss: 0.15924130, Train Acc: 0.95067857, overrun_counter 11\n",
      "all_y all_y_pred (28000, 1) (28000,)\n",
      "Epoch: 55, Train Loss: 0.11987878, Train Acc: 0.96542857, overrun_counter 12\n",
      "all_y all_y_pred (28000, 1) (28000,)\n",
      "Epoch: 56, Train Loss: 0.11947037, Train Acc: 0.96460714, overrun_counter 13\n"
     ]
    }
   ],
   "source": [
    "class_weights = class_weight.compute_class_weight('balanced',classes=np.unique(np.array(y_train)),y=np.array(y_train))\n",
    "model = train_model(X_train, y_train, class_weight = class_weights, model = VGGishDropout(n_classes = 8, dropout=0.2))"
   ]
  },
  {
   "cell_type": "code",
   "execution_count": null,
   "metadata": {
    "scrolled": false
   },
   "outputs": [],
   "source": [
    "class_weights = class_weight.compute_class_weight('balanced',classes=np.unique(np.array(y_train)),y=np.array(y_train))\n",
    "model = train_model(X_train, y_train, class_weight = class_weights, model = Resnet(n_classes = 8, dropout=0.2))"
   ]
  },
  {
   "cell_type": "code",
   "execution_count": null,
   "metadata": {
    "scrolled": false
   },
   "outputs": [],
   "source": [
    "# model = train_model(X_train_CNN, y_train_CNN, class_weight = class_weights)\n",
    "model = train_model(X_train_CNN, y_train_CNN, class_weight = class_weights, model = Resnet(n_classes = 8, dropout=0.2))"
   ]
  },
  {
   "cell_type": "code",
   "execution_count": null,
   "metadata": {},
   "outputs": [],
   "source": [
    "# Compute class weights to weight by inverse of class frequency\n",
    "# weights = torch.tensor(class_weights)  # Torch does not use dict for class weights\n",
    "# class_weights = dict(enumerate(class_weights.flatten()))  # Dict to support both older and newer Keras API"
   ]
  },
  {
   "cell_type": "markdown",
   "metadata": {},
   "source": [
    "# Load model from checkpoint\n",
    "## (optional)"
   ]
  },
  {
   "cell_type": "code",
   "execution_count": null,
   "metadata": {},
   "outputs": [],
   "source": [
    "# Select checkpoint to load model (optional)\n",
    "# Following filepath used for results on 26/07/: model results from paper\n",
    "filepath = '../outputs/models/keras_Multiclass/Win_30_Stride_5_2021_07_26_12_59_05-e80accuracy0.9635.hdf5'\n",
    "\n",
    "# ResNet-50 BNN\n",
    "# filepath = '../outputs/models/pytorch/model_e72_2021_07_29_22_10_30.pth'\n",
    "\n",
    "#30th July overnight training:\n",
    "filepath = '../outputs/models/pytorch/model_e91_2021_07_30_05_40_54.pth'\n",
    "\n",
    "# 30th July day training ResNet-18 BNN\n",
    "filepath = '../outputs/models/pytorch/model_e83_2021_07_30_20_45_11.pth'\n",
    "\n",
    "\n",
    "# VGGish16:\n",
    "# fIRST poor attempt. model_e10_2021_08_04_22_39_37.pth\n",
    "\n",
    "\n",
    "# 31st July 2 AM Next random seed: 21\n",
    "filepath = '../outputs/models/pytorch/model_e78_2021_07_31_02_00_40.pth'\n",
    "filepath = '../outputs/models/keras/Win_30_Stride_5_2021_07_31_02_31_05-e77accuracy0.9633.hdf5'\n",
    "# Resnet50: model_e14_2021_08_03_11_51_30.pth'\n",
    "\n",
    "# 31st July 2:30-3:30 AM, random seed: 5\n",
    "filepath = '../outputs/models/keras/Win_30_Stride_5_2021_07_31_03_25_35-e69accuracy0.9608.hdf5'\n",
    "# second option: filepath = Win_30_Stride_5_2021_08_03_00_07_38-e43accuracy0.9621.hdf5 # \n",
    "#ResNet18:\n",
    "# Training started 17:48 31/07: dropout 0.05 inside, 0.2 outside:\n",
    "filepath = '../outputs/models/pytorch/model_e77_2021_07_31_20_01_44.pth'\n",
    "\n",
    "\n",
    "# Training at 14:55 02/08, dropout 0.2 fixed\n",
    "filepath = '../outputs/models/pytorch/model_e98_2021_08_02_15_00_40.pth'\n",
    "\n",
    "# ResNet18 0.05 dropout everywhere\n",
    "filepath = '../outputs/models/pytorch/model_e98_2021_08_02_18_44_03.pth'\n",
    "\n",
    "\n",
    "\n",
    "#ResNet50\n",
    "filepath = '../outputs/models/pytorch/model_e71_2021_08_01_04_23_48.pth'\n",
    "#ResNet50NoDropout (run 1, collapsed after this epoch)\n",
    "filepath = '../outputs/models/pytorch/model_e73_2021_08_01_18_19_10.pth'\n",
    "#ResNet50NoDropout (run 2, ensured code correct for this rim)\n",
    "filepath = '../outputs/models/pytorch/model_e91_2021_08_02_01_26_12.pth' \n",
    "# 02/aug/21 2:06 AM\n",
    "\n",
    "\n",
    "#random seed: 10\n",
    "#Keras:\n",
    "filepath = '../outputs/models/keras/Win_30_Stride_5_2021_08_03_09_42_31-e60accuracy0.9614.hdf5'\n",
    "\n",
    "# ResNet18:\n",
    "filepath = '../outputs/models/pytorch/model_e86_2021_08_02_22_14_16.pth'\n",
    "#ResNet50\n",
    "# very poor: dropout 0.2 fixed loss: model_e68_2021_08_03_07_04_28.pth\n",
    "\n",
    "# random seed 100\n",
    "# Keras:\n",
    "filepath = '../outputs/models/keras/Win_30_Stride_5_2021_07_31_13_20_53-e68accuracy0.9601.hdf5'\n",
    "#ResNet18:\n",
    "filepath = '../outputs/models/keras/model_e99_2021_07_31_16_58_14.pth'\n",
    "\n",
    "#ResNet50 (dropout last layer strictly only)\n",
    "# training now: 02 Aug 21, started 2:08 AM\n",
    "filepath = '../outputs/models/pytorch/model_e85_2021_08_02_07_17_14.pth'\n",
    "\n",
    "\n",
    "\n",
    "\n",
    "model = load_model(filepath)\n"
   ]
  },
  {
   "cell_type": "code",
   "execution_count": 12,
   "metadata": {},
   "outputs": [
    {
     "name": "stdout",
     "output_type": "stream",
     "text": [
      "Training on cuda:0\n"
     ]
    }
   ],
   "source": [
    "filepath = '../outputs/models/pytorch/model_e40_2021_08_05_15_02_37.pth'\n",
    "# filepath = '../outputs/models/keras/Win_30_Stride_5_2021_08_03_09_42_31-e60accuracy0.9614.hdf5'\n",
    "model = load_model(filepath, model=VGGishDropout(n_classes=8))"
   ]
  },
  {
   "cell_type": "code",
   "execution_count": 13,
   "metadata": {},
   "outputs": [
    {
     "data": {
      "text/plain": [
       "42"
      ]
     },
     "execution_count": 13,
     "metadata": {},
     "output_type": "execute_result"
    }
   ],
   "source": [
    "random_seed"
   ]
  },
  {
   "cell_type": "markdown",
   "metadata": {},
   "source": [
    "# Predict and visualise"
   ]
  },
  {
   "cell_type": "code",
   "execution_count": 14,
   "metadata": {},
   "outputs": [
    {
     "name": "stdout",
     "output_type": "stream",
     "text": [
      "Evaluating on cuda:0\n"
     ]
    },
    {
     "name": "stderr",
     "output_type": "stream",
     "text": [
      "F:\\PostdocCode\\HumBugDB\\lib\\PyTorch\\runTorchMultiClass.py:297: UserWarning: To copy construct from a tensor, it is recommended to use sourceTensor.clone().detach() or sourceTensor.clone().detach().requires_grad_(True), rather than torch.tensor(sourceTensor).\n",
      "  x_test = torch.tensor(X_test).float()\n",
      "F:\\PostdocCode\\HumBugDB\\lib\\PyTorch\\runTorchMultiClass.py:301: UserWarning: To copy construct from a tensor, it is recommended to use sourceTensor.clone().detach() or sourceTensor.clone().detach().requires_grad_(True), rather than torch.tensor(sourceTensor).\n",
      "  y_test = torch.tensor(y_test).float()\n"
     ]
    },
    {
     "name": "stdout",
     "output_type": "stream",
     "text": [
      "0.5295727215323089\n",
      "0.5295727215323089\n",
      "BNN sampled\n",
      "              precision    recall  f1-score   support\n",
      "\n",
      "         0.0       0.63      0.65      0.64      3806\n",
      "         1.0       0.50      0.37      0.43      2020\n",
      "         2.0       0.58      0.21      0.31       353\n",
      "         3.0       0.60      0.71      0.65      1866\n",
      "         4.0       0.23      0.28      0.25       549\n",
      "         5.0       0.30      0.23      0.26       318\n",
      "         6.0       0.21      0.37      0.27       346\n",
      "         7.0       0.24      0.17      0.20       244\n",
      "\n",
      "    accuracy                           0.53      9502\n",
      "   macro avg       0.41      0.37      0.37      9502\n",
      "weighted avg       0.53      0.53      0.52      9502\n",
      "\n"
     ]
    },
    {
     "data": {
      "image/png": "[encoded data removed]",
      "text/plain": [
       "<Figure size 1080x576 with 1 Axes>"
      ]
     },
     "metadata": {
      "needs_background": "light"
     },
     "output_type": "display_data"
    }
   ],
   "source": [
    "preds_list = evaluate_model(model, X_test, y_test, 2)\n",
    "\n",
    "print('BNN sampled')\n",
    "from sklearn.metrics import classification_report,confusion_matrix\n",
    "\n",
    "cnf_matrix = confusion_matrix(y_test, np.argmax(np.mean(preds_list,axis=0), axis=1))\n",
    "plot_confusion_matrix_multiclass(cnf_matrix, 'Confusion matrix for testing data', classes)\n",
    "print(classification_report(y_test, np.argmax(np.mean(preds_list,axis=0), axis=1)))"
   ]
  },
  {
   "cell_type": "code",
   "execution_count": 16,
   "metadata": {},
   "outputs": [
    {
     "name": "stdout",
     "output_type": "stream",
     "text": [
      "BNN\n",
      "{0: 0.7134657790109644, 1: 0.723356418440561, 2: 0.8755244075344384, 3: 0.8298432089886177, 4: 0.7863717364736347, 5: 0.7897902833475776, 6: 0.8265334080813744, 7: 0.853050883772652, 'micro': 0.8355909171657906}\n"
     ]
    },
    {
     "data": {
      "image/png": "[encoded data removed]",
      "text/plain": [
       "<Figure size 432x288 with 1 Axes>"
      ]
     },
     "metadata": {
      "needs_background": "light"
     },
     "output_type": "display_data"
    }
   ],
   "source": [
    "compute_plot_roc_multiclass(y_test, np.mean(preds_list,axis=0), classes, title='Per-window performance')"
   ]
  },
  {
   "cell_type": "code",
   "execution_count": null,
   "metadata": {},
   "outputs": [],
   "source": [
    "preds_list = evaluate_model(model, X_test_CNN, y_test_CNN, 100)"
   ]
  },
  {
   "cell_type": "code",
   "execution_count": null,
   "metadata": {},
   "outputs": [],
   "source": [
    "# Good morning me, random seed 10 on Keras here!"
   ]
  },
  {
   "cell_type": "code",
   "execution_count": null,
   "metadata": {},
   "outputs": [],
   "source": [
    "print('BNN sampled')\n",
    "from sklearn.metrics import classification_report,confusion_matrix\n",
    "\n",
    "cnf_matrix = confusion_matrix(y_test_CNN, np.argmax(np.mean(preds_list,axis=0), axis=1))\n",
    "plot_confusion_matrix_multiclass(cnf_matrix, 'Confusion matrix for testing data', classes)\n",
    "print(classification_report(y_test_CNN, np.argmax(np.mean(preds_list,axis=0), axis=1)))"
   ]
  },
  {
   "cell_type": "code",
   "execution_count": null,
   "metadata": {
    "scrolled": false
   },
   "outputs": [],
   "source": [
    "import sklearn\n",
    "from evaluate import to_categorical\n",
    "# debug multi ROC:\n",
    "\n",
    "y_pred_prob = np.mean(preds_list,axis=0)\n",
    "y_true = y_test_CNN\n",
    "\n",
    "fpr = dict()\n",
    "tpr = dict()\n",
    "roc_auc = dict()\n",
    "for i in range(len(classes)):\n",
    "    fpr[i], tpr[i], thresholds = sklearn.metrics.roc_curve(to_categorical(y_true)[:, i], y_pred_prob[:, i])\n",
    "    roc_auc[i] = sklearn.metrics.auc(fpr[i], tpr[i])\n",
    "    \n",
    "\n",
    "fig, axes = plt.subplots(4,2, figsize=(10,10))\n",
    "for species_idx, ax in enumerate(axes.ravel()):\n",
    "    ax.plot(to_categorical(y_true)[:,species_idx],'.',label='Target')\n",
    "    ax.plot(y_pred_prob[:,species_idx], label='Prediction',lw=1)\n",
    "    ax.set_title('Class: ' + classes[species_idx] + ' ROC: ' + '{:.2f}'.format(roc_auc[species_idx]))\n",
    "    ax.legend()\n",
    "plt.tight_layout()"
   ]
  },
  {
   "cell_type": "code",
   "execution_count": 15,
   "metadata": {},
   "outputs": [
    {
     "ename": "NameError",
     "evalue": "name 'y_test_CNN' is not defined",
     "output_type": "error",
     "traceback": [
      "\u001b[1;31m---------------------------------------------------------------------------\u001b[0m",
      "\u001b[1;31mNameError\u001b[0m                                 Traceback (most recent call last)",
      "\u001b[1;32m<ipython-input-15-a6d42a016f16>\u001b[0m in \u001b[0;36m<module>\u001b[1;34m\u001b[0m\n\u001b[1;32m----> 1\u001b[1;33m \u001b[0mcompute_plot_roc_multiclass\u001b[0m\u001b[1;33m(\u001b[0m\u001b[0my_test_CNN\u001b[0m\u001b[1;33m,\u001b[0m \u001b[0mnp\u001b[0m\u001b[1;33m.\u001b[0m\u001b[0mmean\u001b[0m\u001b[1;33m(\u001b[0m\u001b[0mpreds_list\u001b[0m\u001b[1;33m,\u001b[0m\u001b[0maxis\u001b[0m\u001b[1;33m=\u001b[0m\u001b[1;36m0\u001b[0m\u001b[1;33m)\u001b[0m\u001b[1;33m,\u001b[0m \u001b[0mclasses\u001b[0m\u001b[1;33m,\u001b[0m \u001b[0mtitle\u001b[0m\u001b[1;33m=\u001b[0m\u001b[1;34m'Per-window performance'\u001b[0m\u001b[1;33m)\u001b[0m\u001b[1;33m\u001b[0m\u001b[1;33m\u001b[0m\u001b[0m\n\u001b[0m",
      "\u001b[1;31mNameError\u001b[0m: name 'y_test_CNN' is not defined"
     ]
    }
   ],
   "source": [
    "compute_plot_roc_multiclass(y_test_CNN, np.mean(preds_list,axis=0), classes, title='Per-window performance')"
   ]
  },
  {
   "cell_type": "code",
   "execution_count": null,
   "metadata": {},
   "outputs": [],
   "source": [
    "filepath"
   ]
  },
  {
   "cell_type": "code",
   "execution_count": null,
   "metadata": {},
   "outputs": [],
   "source": [
    "random_seed"
   ]
  },
  {
   "cell_type": "code",
   "execution_count": null,
   "metadata": {},
   "outputs": [],
   "source": [
    "# For now we can just save a copy paste of results, but let's write a func to store results for random seed\n",
    "\n",
    "# Random seed 42:\n",
    "#Keras filepath = '../outputs/models/keras_Multiclass/Win_30_Stride_5_2021_07_26_12_59_05-e80accuracy0.9635.hdf5'\n",
    "#% Results: model_e91_2021_07_30_05_40_54.pth ResNet50, N=100 samples.\n",
    "#% model_e96_2021_07_30_21_07_26.pth ResNet18, N=100\n",
    "\n",
    "########################################################################################################################################\n",
    "# Random seed 21:\n",
    "resnet_18_21 = {0: 0.907429826653944, 1: 0.9018660114354919, 2: 0.9772856383871792, 3: 0.975732819039722, 4: 0.9157321333198608, 5: 0.9043455991405537, 6: 0.8711321300741771, 7: 0.8655805677916948, 'micro': 0.9490051251978446}\n",
    "# pytorch/model_e78_2021_07_31_02_00_40.pth\n",
    "\n",
    "resnet_50_21 = {0: 0.8208432729007634, 1: 0.8115046638640783, 2: 0.9757929671957332, 3: 0.7947146706941483, 4: 0.8562466619512968, 5: 0.8373920938545786, 6: 0.6791755511030099, 7: 0.8306014955087708, 'micro': 0.8778591332615912}\n",
    "#filepath = '../outputs/models/pytorch/model_e14_2021_08_03_11_51_30.pth'\n",
    "\n",
    "# Keras Win_30_Stride_5_2021_07_31_02_31_05-e77accuracy0.9633.hdf5\n",
    "keras_21 = {0: 0.8502981870229007, 1: 0.849051739196255, 2: 0.9469929230365854, 3: 0.9322344132512044, 4: 0.8140991959813502, 5: 0.8432175996349256, 6: 0.7260914040189472, 7: 0.8877960840870969, 'micro': 0.9110295743205659}\n",
    "\n",
    "########################################################################################################################################\n",
    "# Random seed 5 (extremeeeeeely high??):\n",
    "# ResNet18: /model_e77_2021_07_31_20_01_44.pth'\n",
    "resnet_18_5 = {0: 0.9229526271868468, 1: 0.9368816597520596, 2: 0.963522226188537, 3: 0.9485264392064245, 4: 0.9683964598097428, 5: 0.9573003617307201, 6: 0.9424164608703435, 7: 0.9598949535472974, 'micro': 0.9633259373270477}\n",
    "# keras: Win_30_Stride_5_2021_07_31_03_25_35-e69accuracy0.9608.hdf5'\n",
    "keras_5 = {0: 0.8651004342867288, 1: 0.8811829533956251, 2: 0.9773862293400246, 3: 0.9034032187347225, 4: 0.8367226904169062, 5: 0.9099093024039921, 6: 0.8506791500190954, 7: 0.9154296875, 'micro': 0.9292624736481938}\n",
    "\n",
    "\n",
    "#ResNet18 (dropout 0.2 everywhere), possibly just needs longer training...\n",
    "#filepath = '../outputs/models/pytorch/model_e98_2021_08_02_15_00_40.pth'\n",
    "# {0: 0.8550957508550351, 1: 0.849406683341789, 2: 0.9878116685901368, 3: 0.8979362164388284, 4: 0.829748850794867, 5: 0.9049481487190109, 6: 0.8161319506655927, 7: 0.7439875422297298, 'micro': 0.9176793014248503}\n",
    "\n",
    "\n",
    "# 0.05 dropout everywhere\n",
    "#filepath = 'model_e61_2021_08_02_17_29_50.pth'\n",
    "# {0: 0.8517884463301456, 1: 0.851428843445032, 2: 0.9763095481520246, 3: 0.9045281929952107, 4: 0.8478659899125327, 5: 0.9192744834539904, 6: 0.817371602145421, 7: 0.8095663534628378, 'micro': 0.9137075568633347}\n",
    "\n",
    "\n",
    "# ResNet 50, dropout full:\n",
    "#model_e71_2021_08_01_04_23_48.pth'\n",
    "# Poor training: {0: 0.8332316233468624, 1: 0.7640107082102523, 2: 0.959236873327072, 3: 0.8714290717106304, 4: 0.8300273734278235, 5: 0.7736509756132806, 6: 0.8295829224052605, 7: 0.7226958403716216, 'micro': 0.8824963879596882}\n",
    "# ResNet 50, dropout last layer\n",
    "# (run 1, collapsed after this epoch)\n",
    "#filepath = '../outputs/models/pytorch/model_e73_2021_08_01_18_19_10.pth'\n",
    "resnet_50_5 = {0: 0.84578597629865, 1: 0.8407899204043909, 2: 0.928063949317428, 3: 0.8699658067218299, 4: 0.8382569590755282, 5: 0.8560398433624098, 6: 0.800616813005796, 7: 0.7546056798986488, 'micro': 0.9056548177487792}\n",
    "#ResNet50 without collapse:\n",
    "#model_e91_2021_08_02_01_26_12.pth\n",
    "#{0: 0.817411216577308, 1: 0.8262646263379168, 2: 0.9617859044872884, 3: 0.8675373975847583, 4: 0.80610475324012, 5: 0.8663555108141912, 6: 0.7648729379385633, 7: 0.6695101351351351, 'micro': 0.8957878697333836}\n",
    "\n",
    "########################################################################################################################################\n",
    "# Random seed 10:\n",
    "#Keras: filepath = '../outputs/models/keras/Win_30_Stride_5_2021_08_03_09_42_31-e60accuracy0.9614.hdf5\n",
    "keras_10 = {0: 0.868455920254975, 1: 0.8615702636961775, 2: 0.9730785705361976, 3: 0.9308562976176432, 4: 0.851296768808193, 5: 0.9104649063525007, 6: 0.8836303162526624, 7: 0.9001826570333948, 'micro': 0.9318593580434757}\n",
    "\n",
    "#ResNet18 fixed loss 0.05 dropout\n",
    "filepath = '../outputs/models/pytorch/model_e28_2021_08_02_20_16_25.pth'\n",
    "resnet_18_10 = {0: 0.7840781397344898, 1: 0.8421399387425842, 2: 0.9569429654175418, 3: 0.8797721353575868, 4: 0.853519557413038, 5: 0.9015866473028914, 6: 0.8547976861542096, 7: 0.9095814714112069, 'micro': 0.8957285991184005}\n",
    "\n",
    "########################################################################################################################################\n",
    "# Keras: # random seed 100\n",
    "#filepath = '../outputs/models/keras/Win_30_Stride_5_2021_07_31_13_20_53-e68accuracy0.9601.hdf5'\n",
    "keras_100 = {0: 0.8783979335446752, 1: 0.8606896208591721, 2: 0.9723285337141679, 3: 0.9163527200878863, 4: 0.8784291728885104, 5: 0.8653711484593838, 6: 0.7928047235881388, 7: 0.9454135230293885, 'micro': 0.9291024226844671}\n",
    "\n",
    "# PyTorch ResNet18: model_e99_2021_07_31_16_58_14.pth\n",
    "resnet_18_100 = {0: 0.8471517200892333, 1: 0.8359428490084403, 2: 0.9607714223098839, 3: 0.9048423292005864, 4: 0.8631383864390335, 5: 0.8048531339141162, 6: 0.840628259573834, 7: 0.8854465761299131, 'micro': 0.9143897312093303}\n",
    "\n",
    "# PyTorch ResNet50 0 dropout module, but 0.2 on last layer:\n",
    "# model_e85_2021_08_02_07_17_14.pth\n",
    "resnet_50_100 = {0: 0.8713980979218034, 1: 0.8770412006241388, 2: 0.9334606168533831, 3: 0.8957214466894431, 4: 0.8724145133402227, 5: 0.7778289067920746, 6: 0.8119500633288631, 7: 0.8704534023137172, 'micro': 0.9191073388359018}\n",
    "\n"
   ]
  },
  {
   "cell_type": "code",
   "execution_count": null,
   "metadata": {},
   "outputs": [],
   "source": [
    "resnet_18_42 = {0: 0.846, 1: 0.843, 2: 0.937, 3: 0.928, 4: 0.825, 5: 0.762, 6: 0.796, 7: 0.833, 'micro':0.910} # from paper\n",
    "keras_42 = {0: 0.865, 1: 0.881, 2: 0.959, 3: 0.935, 4: 0.874, 5: 0.886, 6: 0.849, 7: 0.934, 'micro':0.933}\n",
    "resnet_50_42 = {0: 0.841, 1: 0.849, 2: 0.933, 3: 0.919, 4: 0.847, 5: 0.811, 6: 0.837, 7: 0.869, 'micro':0.913}"
   ]
  },
  {
   "cell_type": "code",
   "execution_count": null,
   "metadata": {},
   "outputs": [],
   "source": [
    "import pandas as pd\n",
    "df_50 = pd.DataFrame([resnet_50_42, resnet_50_21, resnet_50_5, resnet_50_10, resnet_50_100])\n",
    "df_18 = pd.DataFrame([resnet_18_42, resnet_18_21, resnet_18_5, resnet_18_10, resnet_18_100])\n",
    "df_keras = pd.DataFrame([keras_42, keras_21, keras_5, keras_10, keras_100])"
   ]
  },
  {
   "cell_type": "code",
   "execution_count": null,
   "metadata": {},
   "outputs": [],
   "source": [
    "pd.DataFrame([df_18.mean(), df_18.std()])"
   ]
  },
  {
   "cell_type": "code",
   "execution_count": null,
   "metadata": {},
   "outputs": [],
   "source": [
    "pd.DataFrame([df_keras.mean(), df_keras.std()])"
   ]
  },
  {
   "cell_type": "code",
   "execution_count": null,
   "metadata": {},
   "outputs": [],
   "source": []
  },
  {
   "cell_type": "markdown",
   "metadata": {},
   "source": [
    "## Evaluate mean + std over xval splits"
   ]
  },
  {
   "cell_type": "code",
   "execution_count": null,
   "metadata": {},
   "outputs": [],
   "source": [
    "# Supported for both Keras and PyTorch but requires separate kernel instances.\n",
    "results_dict = {}\n",
    "\n",
    "def evaluate_xval(filepaths, X_test_CNN, y_test_CNN, N_samples)\n",
    "    for filepath in filepaths:\n",
    "        model = load_model(filepath)\n",
    "        preds_list = evaluate_model(model, X_test_CNN, y_test_CNN, N_samples)\n",
    "        roc = compute_plot_roc_multiclass(y_test_CNN, np.mean(preds_list,axis=0), classes, title='Per-window performance')\n",
    "        cnf_matrix = confusion_matrix(y_test_CNN, np.argmax(np.mean(preds_list,axis=0), axis=1))\n",
    "        results_dict[filepath] = [cnf_matrix, roc]\n",
    "    return results_dict\n",
    "    \n"
   ]
  },
  {
   "cell_type": "markdown",
   "metadata": {},
   "source": [
    "# Evaluate performance per recording (extension)"
   ]
  },
  {
   "cell_type": "code",
   "execution_count": null,
   "metadata": {},
   "outputs": [],
   "source": [
    "def evaluate_aggregate_predictions(X_test, y_test, model, BNN_samples):\n",
    "    '''Produce a decision of mosquito type per recording based on taking the mean of predictions over strided features as in \n",
    "    feat_util.reshape_feat. By default uses config.win_size and config.step_size as parameters for feature windowing.'''\n",
    "    preds_aggregated_by_mean = []\n",
    "    y_aggregated_prediction_by_mean = []\n",
    "    \n",
    "    for idx, recording in enumerate(X_test):\n",
    "        preds_list = []\n",
    "        X_item, _ = feat_util.reshape_feat([recording], [y_test[idx]], config.win_size, config.step_size)\n",
    "        for i in range(BNN_samples):\n",
    "            preds_values = model.predict(X_item)\n",
    "            preds_list.append(preds_values)\n",
    "        preds_values = np.mean(preds_list,axis=0)\n",
    "    #     G_X, U_X, _ = active_BALD(np.log(preds_list), X_item, 8)\n",
    "\n",
    "        preds_max = np.amax(preds_values, axis=1)\n",
    "        preds = np.argmax(preds_values, axis=1)\n",
    "        y_aggregated_prediction_by_mean.append(np.argmax(np.mean(preds_values, axis=0)))\n",
    "        preds_aggregated_by_mean.append(np.mean(preds_values, axis=0))\n",
    "    return preds_aggregated_by_mean, y_aggregated_prediction_by_mean"
   ]
  },
  {
   "cell_type": "code",
   "execution_count": null,
   "metadata": {},
   "outputs": [],
   "source": [
    "preds_aggregated_by_mean, y_aggregated_prediction_by_mean = evaluate_aggregate_predictions(X_test, y_test, model, 100)"
   ]
  },
  {
   "cell_type": "code",
   "execution_count": null,
   "metadata": {},
   "outputs": [],
   "source": [
    "cnf_matrix = confusion_matrix(y_test, y_aggregated_prediction_by_mean)\n",
    "plot_confusion_matrix_multiclass(cnf_matrix, 'Confusion matrix for aggregated data per recording', classes)\n",
    "print(classification_report(y_test, y_aggregated_prediction_by_mean))"
   ]
  },
  {
   "cell_type": "code",
   "execution_count": null,
   "metadata": {},
   "outputs": [],
   "source": [
    "compute_plot_roc_multiclass(y_test,np.array(preds_aggregated_by_mean), classes, title='Per-recording performance')"
   ]
  }
 ],
 "metadata": {
  "kernelspec": {
   "display_name": "Python [conda env:.conda-pytorch]",
   "language": "python",
   "name": "conda-env-.conda-pytorch-py"
  },
  "language_info": {
   "codemirror_mode": {
    "name": "ipython",
    "version": 3
   },
   "file_extension": ".py",
   "mimetype": "text/x-python",
   "name": "python",
   "nbconvert_exporter": "python",
   "pygments_lexer": "ipython3",
   "version": "3.8.10"
  }
 },
 "nbformat": 4,
 "nbformat_minor": 2
}
